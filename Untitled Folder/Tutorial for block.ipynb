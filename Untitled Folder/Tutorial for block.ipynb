{
 "cells": [
  {
   "cell_type": "markdown",
   "id": "bfb5de4b",
   "metadata": {},
   "source": [
    "## 块（Blocks）\n",
    "块是包含DXF实体的集合，可以在不同的布局和其他块定义中作为块引用（Block Reference）多次放置。块引用（Insert）可以通过OCS在三维空间中旋转、缩放、放置，并以网格的方式排列，每个块引用实体都可以附加独立的属性（Attrib）。\n",
    "\n",
    "### 块属性（Block Attributes）\n",
    "块属性（Attrib）是附加到块引用的文本注释，具有相关联的标记。常常使用属性将信息添加到块引用中，这些信息可以被CAD应用程序评估和导出。\n",
    "\n",
    "### 扩展块功能（Extended Block Features）\n",
    "Autodesk添加了许多新功能到块（动态块、约束），它们是未记录在DXF中的实体，其中许多功能不被其他CAD应用程序完全支持，Ezdxf库也没有超出记录这些未记录在案的DXF实体之外支持这些功能。"
   ]
  },
  {
   "cell_type": "code",
   "execution_count": null,
   "id": "aba57c1b",
   "metadata": {},
   "outputs": [],
   "source": []
  }
 ],
 "metadata": {
  "kernelspec": {
   "display_name": "Python 3 (ipykernel)",
   "language": "python",
   "name": "python3"
  },
  "language_info": {
   "codemirror_mode": {
    "name": "ipython",
    "version": 3
   },
   "file_extension": ".py",
   "mimetype": "text/x-python",
   "name": "python",
   "nbconvert_exporter": "python",
   "pygments_lexer": "ipython3",
   "version": "3.9.16"
  }
 },
 "nbformat": 4,
 "nbformat_minor": 5
}
